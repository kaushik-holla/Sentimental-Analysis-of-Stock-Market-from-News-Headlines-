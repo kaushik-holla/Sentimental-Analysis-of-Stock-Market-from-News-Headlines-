{
 "cells": [
  {
   "cell_type": "code",
   "execution_count": 1,
   "metadata": {},
   "outputs": [],
   "source": [
    "#Importing the libraries\n",
    "\n",
    "from bs4 import BeautifulSoup\n",
    "import pandas as pd\n",
    "import os"
   ]
  },
  {
   "cell_type": "markdown",
   "metadata": {},
   "source": [
    "## Reading the table containing Headlines from html file"
   ]
  },
  {
   "cell_type": "code",
   "execution_count": 5,
   "metadata": {},
   "outputs": [],
   "source": [
    "html_tables = {}\n",
    "\n",
    "for file_name in os.listdir('datasets'):\n",
    "    file_path = f'datasets/{file_name}'\n",
    "    file_object = open(file_path,'r')\n",
    "    html = BeautifulSoup(file_object)\n",
    "    # finding the headlines table which has id news-table\n",
    "    html_table = html.find(id = 'news-table')\n",
    "    # Adding the table name to the dictionary\n",
    "    html_tables[file_name] = html_table"
   ]
  },
  {
   "cell_type": "code",
   "execution_count": 6,
   "metadata": {},
   "outputs": [],
   "source": [
    "#html_tables"
   ]
  },
  {
   "cell_type": "markdown",
   "metadata": {},
   "source": [
    "## Exploring the data from the headlines table"
   ]
  },
  {
   "cell_type": "code",
   "execution_count": 7,
   "metadata": {},
   "outputs": [
    {
     "data": {
      "text/plain": [
       "dict_keys(['fb_05ene.html', 'fb_22sep.html', 'tsla_05ene.html', 'tsla_22sep.html', 'tsla_26nov.html'])"
      ]
     },
     "execution_count": 7,
     "metadata": {},
     "output_type": "execute_result"
    }
   ],
   "source": [
    "html_tables.keys()"
   ]
  },
  {
   "cell_type": "code",
   "execution_count": 11,
   "metadata": {},
   "outputs": [
    {
     "name": "stdout",
     "output_type": "stream",
     "text": [
      "0:\n",
      "Sep-22-18 11:08AM  \n",
      "How former Facebook and Google engineer Bret Taylor earned Marc Benioff's trust at Salesforce\n",
      "1:\n",
      "12:02AM  \n",
      "White House Drafts Order To Look Into Google, Facebook Practices\n",
      "2:\n",
      "Sep-21-18 06:21PM  \n",
      "Facebook Withdraws Direct Promotion of Political Campaigns\n",
      "3:\n",
      "06:18PM  \n",
      "Facebook's Plan to Pull Back Campaign Support to Trump in 2020\n",
      "4:\n",
      "06:17PM  \n",
      "Facebook's Plan to Pull Back Campaign Support to Trump in 2020\n",
      "5:\n",
      "06:10PM  \n",
      "Does F.A.N.G. still stand? 8 trades\n"
     ]
    }
   ],
   "source": [
    "# Reading facebook headlines from sep 22nd\n",
    "fb = html_tables['fb_22sep.html']\n",
    "\n",
    "# Reading the <tr> in the above table\n",
    "fb_tr = fb.findAll('tr')\n",
    "\n",
    "for i, table_row in enumerate(fb_tr):\n",
    "    # Reading the data from <td> tag\n",
    "    data_text = table_row.td.get_text()\n",
    "    \n",
    "    # Reading data from <a> tag\n",
    "    link_text = table_row.a.get_text()\n",
    "    \n",
    "    #Printing the first 5 headines from the table\n",
    "    print(f'{i}:')\n",
    "    print(data_text)\n",
    "    print(link_text)\n",
    "    \n",
    "    # Breaking the loop after 5 iterations\n",
    "    if i == 5:\n",
    "        break"
   ]
  },
  {
   "cell_type": "code",
   "execution_count": 9,
   "metadata": {},
   "outputs": [],
   "source": [
    "\n",
    "\n"
   ]
  },
  {
   "cell_type": "code",
   "execution_count": null,
   "metadata": {},
   "outputs": [],
   "source": []
  }
 ],
 "metadata": {
  "kernelspec": {
   "display_name": "Python 3",
   "language": "python",
   "name": "python3"
  },
  "language_info": {
   "codemirror_mode": {
    "name": "ipython",
    "version": 3
   },
   "file_extension": ".py",
   "mimetype": "text/x-python",
   "name": "python",
   "nbconvert_exporter": "python",
   "pygments_lexer": "ipython3",
   "version": "3.7.3"
  }
 },
 "nbformat": 4,
 "nbformat_minor": 2
}
