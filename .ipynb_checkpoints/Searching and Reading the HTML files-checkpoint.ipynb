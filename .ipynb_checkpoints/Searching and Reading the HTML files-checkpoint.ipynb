{
 "cells": [
  {
   "cell_type": "code",
   "execution_count": 1,
   "metadata": {},
   "outputs": [],
   "source": [
    "from bs4 import BeautifulSoup\n",
    "import pandas as pd\n",
    "import os"
   ]
  },
  {
   "cell_type": "code",
   "execution_count": 2,
   "metadata": {},
   "outputs": [],
   "source": [
    "html_tables = {}"
   ]
  },
  {
   "cell_type": "markdown",
   "metadata": {},
   "source": [
    "# Testing on how to read the files."
   ]
  },
  {
   "cell_type": "code",
   "execution_count": 3,
   "metadata": {},
   "outputs": [
    {
     "data": {
      "text/plain": [
       "['fb_05ene.html',\n",
       " 'fb_22sep.html',\n",
       " 'tsla_05ene.html',\n",
       " 'tsla_22sep.html',\n",
       " 'tsla_26nov.html']"
      ]
     },
     "execution_count": 3,
     "metadata": {},
     "output_type": "execute_result"
    }
   ],
   "source": [
    "os.listdir('datasets')"
   ]
  },
  {
   "cell_type": "code",
   "execution_count": 4,
   "metadata": {},
   "outputs": [
    {
     "name": "stdout",
     "output_type": "stream",
     "text": [
      "datasets/fb_05ene.html\n",
      "datasets/fb_22sep.html\n",
      "datasets/tsla_05ene.html\n",
      "datasets/tsla_22sep.html\n",
      "datasets/tsla_26nov.html\n"
     ]
    }
   ],
   "source": [
    "for table_name in os.listdir('datasets'):\n",
    "    table_path = f'datasets/{table_name}'\n",
    "    print(table_path)"
   ]
  },
  {
   "cell_type": "code",
   "execution_count": 6,
   "metadata": {},
   "outputs": [],
   "source": [
    "table_file = open('datasets/fb_05ene.html','r')"
   ]
  },
  {
   "cell_type": "code",
   "execution_count": 7,
   "metadata": {},
   "outputs": [
    {
     "data": {
      "text/plain": [
       "<_io.TextIOWrapper name='datasets/fb_05ene.html' mode='r' encoding='cp1252'>"
      ]
     },
     "execution_count": 7,
     "metadata": {},
     "output_type": "execute_result"
    }
   ],
   "source": [
    "table_file"
   ]
  },
  {
   "cell_type": "code",
   "execution_count": 8,
   "metadata": {},
   "outputs": [],
   "source": [
    "html = BeautifulSoup(table_file)"
   ]
  },
  {
   "cell_type": "code",
   "execution_count": 10,
   "metadata": {},
   "outputs": [],
   "source": [
    "#html"
   ]
  },
  {
   "cell_type": "code",
   "execution_count": 11,
   "metadata": {},
   "outputs": [],
   "source": [
    "html_table = html.find(id = \"news-table\")"
   ]
  },
  {
   "cell_type": "code",
   "execution_count": 12,
   "metadata": {},
   "outputs": [
    {
     "data": {
      "text/plain": [
       "<table border=\"0\" cellpadding=\"1\" cellspacing=\"0\" class=\"fullview-news-outer\" id=\"news-table\" width=\"100%\">\n",
       "<tr><td align=\"right\" style=\"white-space:nowrap\" width=\"130\">Jan-04-19 06:22PM  </td><td align=\"left\"><a class=\"tab-link-news\" href=\"https://www.thestreet.com/technology/faang-stocks-14825211?puc=yahoo&amp;cm_ven=YAHOO&amp;yptr=yahoo\" target=\"_blank\">Facebook, Apple, Netflix, Amazon and Alphabet Power Friday Gains</a> <span style=\"color:#aa6dc0;font-size:9px\">TheStreet.com</span></td></tr>\n",
       "<tr><td align=\"right\" width=\"130\">05:15PM  </td><td align=\"left\"><a class=\"tab-link-news\" href=\"https://finance.yahoo.com/news/earnings-calendar-week-dec-11-192003013.html\" target=\"_blank\">Earnings Reports for the Week of Jan. 7-11 (BBBY, KBH)</a> <span style=\"color:#aa6dc0;font-size:9px\">Kiplinger</span></td></tr>\n",
       "<tr><td align=\"right\" width=\"130\">04:55PM  </td><td align=\"left\"><a class=\"tab-link-news\" href=\"https://finance.yahoo.com/news/column-commentary-2019-more-state-215519079.html\" target=\"_blank\">COLUMN-Commentary: 2019 will be the year of more state control</a> <span style=\"color:#aa6dc0;font-size:9px\">Reuters</span></td></tr>\n",
       "<tr><td align=\"right\" width=\"130\">04:53PM  </td><td align=\"left\"><a class=\"tab-link-news\" href=\"https://www.barrons.com/articles/technology-trends-2019-51546007213?siteid=yhoof2&amp;yptr=yahoo\" target=\"_blank\">3 Tech Trends to Watch in 2019</a> <span style=\"color:#aa6dc0;font-size:9px\">Barrons.com</span></td></tr>\n",
       "<tr><td align=\"right\" width=\"130\">04:30PM  </td><td align=\"left\"><a class=\"tab-link-news\" href=\"https://www.bizjournals.com/denver/news/2019/01/04/denver-tech-growth-2019.html?ana=yahoo&amp;yptr=yahoo\" target=\"_blank\">Will Denver's tech growth continue in 2019?</a> <span style=\"color:#aa6dc0;font-size:9px\">American City Business Journals</span></td></tr>\n",
       "<tr><td align=\"right\" width=\"130\">02:46PM  </td><td align=\"left\"><a class=\"tab-link-news\" href=\"https://finance.yahoo.com/news/facebook-prioritize-video-2019-194600276.html\" target=\"_blank\">Facebook to Prioritize Video in 2019</a> <span style=\"color:#aa6dc0;font-size:9px\">Motley Fool</span></td></tr>\n",
       "<tr><td align=\"right\" width=\"130\">01:52PM  </td><td align=\"left\"><a class=\"tab-link-news\" href=\"https://finance.yahoo.com/news/scottevest-ceo-facebook-passion-project-185250663.html\" target=\"_blank\">ScotteVest CEO: How a Facebook Passion Project Evolved into a New Business</a> <span style=\"color:#aa6dc0;font-size:9px\">CorpGov.com</span></td></tr>\n",
       "<tr><td align=\"right\" width=\"130\">01:47PM  </td><td align=\"left\"><a class=\"tab-link-news\" href=\"https://www.investopedia.com/millennials-load-up-on-battered-apple-facebook-amd-4582768?utm_campaign=quote-yahoo&amp;utm_source=yahoo&amp;utm_medium=referral&amp;yptr=yahoo\" target=\"_blank\">Millennials Load Up on Battered Apple, Facebook, GE</a> <span style=\"color:#aa6dc0;font-size:9px\">Investopedia</span></td></tr>\n",
       "<tr><td align=\"right\" width=\"130\">01:00PM  </td><td align=\"left\"><a class=\"tab-link-news\" href=\"https://finance.yahoo.com/news/faangs-see-weak-start-2019-180006783.html\" target=\"_blank\">FAANGs See a Weak Start to 2019: More Pain Ahead for ETFs?</a> <span style=\"color:#aa6dc0;font-size:9px\">Zacks</span></td></tr>\n",
       "<tr><td align=\"right\" width=\"130\">12:18PM  </td><td align=\"left\"><a class=\"tab-link-news\" href=\"https://www.marketwatch.com/story/netflix-shares-soar-7-as-goldman-adds-stock-to-its-conviction-list-2019-01-04?siteid=yhoof2&amp;yptr=yahoo\" target=\"_blank\">U[PDATE: Netflix shares soar 9% as Goldman adds stock to its Conviction List</a> <span style=\"color:#aa6dc0;font-size:9px\">MarketWatch</span></td></tr>\n",
       "<tr><td align=\"right\" width=\"130\">12:11PM  </td><td align=\"left\"><a class=\"tab-link-news\" href=\"https://finance.yahoo.com/news/strategy-stock-pickers-2019-171100616.html\" target=\"_blank\">What Strategy Should Stock Pickers Use in 2019?</a> <span style=\"color:#aa6dc0;font-size:9px\">Motley Fool</span></td></tr>\n",
       "<tr><td align=\"right\" width=\"130\">11:54AM  </td><td align=\"left\"><a class=\"tab-link-news\" href=\"https://finance.yahoo.com/news/7-tech-stocks-without-china-165446187.html\" target=\"_blank\">7 Tech Stocks Without China Exposure</a> <span style=\"color:#aa6dc0;font-size:9px\">InvestorPlace</span></td></tr>\n",
       "<tr><td align=\"right\" width=\"130\">11:08AM  </td><td align=\"left\"><a class=\"tab-link-news\" href=\"https://finance.yahoo.com/news/amazon-amzn-faces-strike-hurdles-160804715.html\" target=\"_blank\">Amazon (AMZN) Faces Strike Hurdles Before Epiphany in Spain</a> <span style=\"color:#aa6dc0;font-size:9px\">Zacks</span></td></tr>\n",
       "<tr><td align=\"right\" width=\"130\">10:16AM  </td><td align=\"left\"><a class=\"tab-link-news\" href=\"https://www.marketwatch.com/story/apples-stock-price-wont-recover-and-9-more-bold-predictions-for-2019-2019-01-04?siteid=yhoof2&amp;yptr=yahoo\" target=\"_blank\">Apples stock price wont recover and 9 more bold predictions for 2019</a> <span style=\"color:#aa6dc0;font-size:9px\">MarketWatch</span></td></tr>\n",
       "<tr><td align=\"right\" width=\"130\">10:06AM  </td><td align=\"left\"><a class=\"tab-link-news\" href=\"https://finance.yahoo.com/news/facebook-earnings-mark-calendar-150600463.html\" target=\"_blank\">Facebook Earnings: Mark Your Calendar</a> <span style=\"color:#aa6dc0;font-size:9px\">Motley Fool</span></td></tr>\n",
       "<tr><td align=\"right\" width=\"130\">10:03AM  </td><td align=\"left\"><a class=\"tab-link-news\" href=\"https://finance.yahoo.com/news/rbcs-mahaney-tech-reckoning-already-150315599.html\" target=\"_blank\">RBC's Mahaney: Tech 'Reckoning' Already Occurred</a> <span style=\"color:#aa6dc0;font-size:9px\">Benzinga</span></td></tr>\n",
       "<tr><td align=\"right\" width=\"130\">09:28AM  </td><td align=\"left\"><a class=\"tab-link-news\" href=\"https://www.bizjournals.com/sanjose/news/2019/01/04/mark-zuckerberg-facebook-stock-selling-fb.html?ana=yahoo&amp;yptr=yahoo\" target=\"_blank\">Mark Zuckerberg hits pause on his plan to sell billions of dollars worth of Facebook stock</a> <span style=\"color:#aa6dc0;font-size:9px\">American City Business Journals</span></td></tr>\n",
       "<tr><td align=\"right\" width=\"130\">08:35AM  </td><td align=\"left\"><a class=\"tab-link-news\" href=\"https://finance.yahoo.com/news/social-media-etf-stung-analyst-133514938.html\" target=\"_blank\">Social Media ETF Stung By Analyst Downgrades</a> <span style=\"color:#aa6dc0;font-size:9px\">ETF Trends</span></td></tr>\n",
       "<tr><td align=\"right\" width=\"130\">08:33AM  </td><td align=\"left\"><a class=\"tab-link-news\" href=\"https://finance.yahoo.com/news/twitter-still-vulnerable-hacking-terrorist-133301376.html\" target=\"_blank\">Twitter Still Vulnerable to Hacking by Terrorist Groups</a> <span style=\"color:#aa6dc0;font-size:9px\">Zacks</span></td></tr>\n",
       "<tr><td align=\"right\" width=\"130\">06:00AM  </td><td align=\"left\"><a class=\"tab-link-news\" href=\"https://www.barrons.com/articles/apple-vs-facebook-whos-had-the-worse-run-51546599600?siteid=yhoof2&amp;yptr=yahoo\" target=\"_blank\">Apple vs. Facebook. Whos Had the Worse Run?</a> <span style=\"color:#aa6dc0;font-size:9px\">Barrons.com</span></td></tr>\n",
       "<tr><td align=\"right\" width=\"130\">05:26AM  </td><td align=\"left\"><a class=\"tab-link-news\" href=\"https://finance.yahoo.com/news/facebook-rises-3-102607462.html\" target=\"_blank\">Facebook Rises 3%</a> <span style=\"color:#aa6dc0;font-size:9px\">Investing.com</span></td></tr>\n",
       "<tr><td align=\"right\" style=\"white-space:nowrap\" width=\"130\">Jan-03-19 10:59PM  </td><td align=\"left\"><a class=\"tab-link-news\" href=\"https://www.wsj.com/articles/facebook-begins-new-year-in-fixer-upper-mode-11546554725?ru=yahoo?mod=yahoo_itp&amp;yptr=yahoo\" target=\"_blank\">[$$] Facebook Begins New Year in Fixer-Upper Mode</a> <span style=\"color:#aa6dc0;font-size:9px\">The Wall Street Journal</span></td></tr>\n",
       "<tr><td align=\"right\" width=\"130\">05:45PM  </td><td align=\"left\"><a class=\"tab-link-news\" href=\"https://finance.yahoo.com/news/investors-focused-too-closely-facebook-224500896.html\" target=\"_blank\">Investors Are Focused Too Closely on Facebook and Google's Market Share</a> <span style=\"color:#aa6dc0;font-size:9px\">Motley Fool</span></td></tr>\n",
       "<tr><td align=\"right\" width=\"130\">05:32PM  </td><td align=\"left\"><a class=\"tab-link-news\" href=\"https://www.wsj.com/articles/facebook-begins-new-year-in-fixer-upper-mode-11546554725?mod=yahoo_hs&amp;yptr=yahoo\" target=\"_blank\">[$$] Facebook Begins New Year in Fixer-Upper Mode</a> <span style=\"color:#aa6dc0;font-size:9px\">The Wall Street Journal</span></td></tr>\n",
       "<tr><td align=\"right\" width=\"130\">05:24PM  </td><td align=\"left\"><a class=\"tab-link-news\" href=\"https://finance.yahoo.com/news/facebook-fb-reportedly-testing-dark-222410360.html\" target=\"_blank\">Facebook (FB) Reportedly Testing Dark Mode on Messenger</a> <span style=\"color:#aa6dc0;font-size:9px\">Zacks</span></td></tr>\n",
       "<tr><td align=\"right\" width=\"130\">04:10PM  </td><td align=\"left\"><a class=\"tab-link-news\" href=\"https://www.investors.com/news/technology/google-alphabet-stock-upgraded-fang/?src=A00220&amp;yptr=yahoo\" target=\"_blank\">Google Stock Upgraded, Viewed As 'Most Defensive' FANG Amid Tech Sell-Off</a> <span style=\"color:#aa6dc0;font-size:9px\">Investor's Business Daily</span></td></tr>\n",
       "<tr><td align=\"right\" width=\"130\">03:26PM  </td><td align=\"left\"><a class=\"tab-link-news\" href=\"https://finance.yahoo.com/news/facebook-stock-best-fang-stock-202605905.html\" target=\"_blank\">Is Facebook Stock the Best FANG Stock to Buy?</a> <span style=\"color:#aa6dc0;font-size:9px\">InvestorPlace</span></td></tr>\n",
       "<tr><td align=\"right\" width=\"130\">03:14PM  </td><td align=\"left\"><a class=\"tab-link-news\" href=\"https://www.thestreet.com/technology/mark-zuckerberg-takes-a-break-from-selling-facebook-share-last-quarter-14823991?puc=yahoo&amp;cm_ven=YAHOO&amp;yptr=yahoo\" target=\"_blank\">Zuckerberg Paused His Selling of Facebook Shares, Analysts Say It's a Good Sign</a> <span style=\"color:#aa6dc0;font-size:9px\">TheStreet.com</span></td></tr>\n",
       "<tr><td align=\"right\" width=\"130\">01:36PM  </td><td align=\"left\"><a class=\"tab-link-news\" href=\"https://finance.yahoo.com/news/whats-next-apple-aapl-slashed-183606894.html\" target=\"_blank\">What's Next For Apple (AAPL) After It Slashed Its Q1 Sales Forecast?</a> <span style=\"color:#aa6dc0;font-size:9px\">Zacks</span></td></tr>\n",
       "<tr><td align=\"right\" width=\"130\">01:31PM  </td><td align=\"left\"><a class=\"tab-link-news\" href=\"https://finance.yahoo.com/news/money-run-twilio-stock-183157445.html\" target=\"_blank\">Take the Money And Run From Twilio Stock</a> <span style=\"color:#aa6dc0;font-size:9px\">InvestorPlace</span></td></tr>\n",
       "<tr><td align=\"right\" width=\"130\">12:25PM  </td><td align=\"left\"><a class=\"tab-link-news\" href=\"https://finance.yahoo.com/news/3-great-reasons-bullish-twilio-172537960.html\" target=\"_blank\">3 Great Reasons You Should Be Bullish on Twilio Stock</a> <span style=\"color:#aa6dc0;font-size:9px\">InvestorPlace</span></td></tr>\n",
       "<tr><td align=\"right\" width=\"130\">10:42AM  </td><td align=\"left\"><a class=\"tab-link-news\" href=\"https://finance.yahoo.com/news/why-netflix-stock-rise-back-154231276.html\" target=\"_blank\">Why Netflix Stock Will Rise Back Above $300 In 2019</a> <span style=\"color:#aa6dc0;font-size:9px\">InvestorPlace</span></td></tr>\n",
       "<tr><td align=\"right\" width=\"130\">10:21AM  </td><td align=\"left\"><a class=\"tab-link-news\" href=\"https://finance.yahoo.com/news/facebook-under-fire-collecting-data-152103660.html\" target=\"_blank\">Facebook Under Fire for Collecting Data From Android Apps</a> <span style=\"color:#aa6dc0;font-size:9px\">Zacks</span></td></tr>\n",
       "<tr><td align=\"right\" width=\"130\">10:08AM  </td><td align=\"left\"><a class=\"tab-link-news\" href=\"https://finance.yahoo.com/news/mark-zuckerberg-halts-stock-sales-150821186.html\" target=\"_blank\">Mark Zuckerberg Halts Stock Sales as Facebook Shares Tumble</a> <span style=\"color:#aa6dc0;font-size:9px\">Bloomberg</span></td></tr>\n",
       "<tr><td align=\"right\" width=\"130\">09:58AM  </td><td align=\"left\"><a class=\"tab-link-news\" href=\"https://finance.yahoo.com/news/facebook-falls-3-145803773.html\" target=\"_blank\">Facebook Falls 3%</a> <span style=\"color:#aa6dc0;font-size:9px\">Investing.com</span></td></tr>\n",
       "<tr><td align=\"right\" width=\"130\">09:48AM  </td><td align=\"left\"><a class=\"tab-link-news\" href=\"https://finance.yahoo.com/news/stock-market-news-jan-3-144802151.html\" target=\"_blank\">Stock Market News For Jan 3, 2019</a> <span style=\"color:#aa6dc0;font-size:9px\">Zacks</span></td></tr>\n",
       "<tr><td align=\"right\" width=\"130\">09:34AM  </td><td align=\"left\"><a class=\"tab-link-news\" href=\"https://finance.yahoo.com/video/apple-warning-stoking-fears-slowdown-143400656.html\" target=\"_blank\">Apple warning stoking fears of slowdown in Chinese econom...</a> <span style=\"color:#aa6dc0;font-size:9px\">CNBC Videos</span></td></tr>\n",
       "<tr><td align=\"right\" width=\"130\">09:12AM  </td><td align=\"left\"><a class=\"tab-link-news\" href=\"https://www.investopedia.com/why-the-faangs-are-crucial-to-a-2019-market-rally-4582621?utm_campaign=quote-yahoo&amp;utm_source=yahoo&amp;utm_medium=referral&amp;yptr=yahoo\" target=\"_blank\">Why The FAANGs Are Crucial To A 2019 Market Rally</a> <span style=\"color:#aa6dc0;font-size:9px\">Investopedia</span></td></tr>\n",
       "<tr><td align=\"right\" width=\"130\">09:07AM  </td><td align=\"left\"><a class=\"tab-link-news\" href=\"https://finance.yahoo.com/news/zacks-analyst-blog-highlights-facebook-140702958.html\" target=\"_blank\">The Zacks Analyst Blog Highlights: Facebook, Wells Fargo, AT&amp;T, Intel and Glaxo</a> <span style=\"color:#aa6dc0;font-size:9px\">Zacks</span></td></tr>\n",
       "<tr><td align=\"right\" width=\"130\">08:04AM  </td><td align=\"left\"><a class=\"tab-link-news\" href=\"https://finance.yahoo.com/news/3-big-stock-charts-thursday-130435665.html\" target=\"_blank\">3 Big Stock Charts for Thursday: Medtronic, Facebook and eBay</a> <span style=\"color:#aa6dc0;font-size:9px\">InvestorPlace</span></td></tr>\n",
       "<tr><td align=\"right\" width=\"130\">06:00AM  </td><td align=\"left\"><a class=\"tab-link-news\" href=\"https://finance.yahoo.com/news/why-internet-censorship-doesn-t-110016589.html\" target=\"_blank\">Why Internet Censorship Doesnt Work and Never Will</a> <span style=\"color:#aa6dc0;font-size:9px\">Bloomberg</span></td></tr>\n",
       "<tr><td align=\"right\" style=\"white-space:nowrap\" width=\"130\">Jan-02-19 10:35PM  </td><td align=\"left\"><a class=\"tab-link-news\" href=\"https://finance.yahoo.com/news/technology-stocks-bail-033515420.html\" target=\"_blank\">Technology Stocks: Should You Bail?</a> <span style=\"color:#aa6dc0;font-size:9px\">Kiplinger</span></td></tr>\n",
       "<tr><td align=\"right\" width=\"130\">06:46PM  </td><td align=\"left\"><a class=\"tab-link-news\" href=\"https://finance.yahoo.com/news/heres-why-facebook-fb-stock-234611231.html\" target=\"_blank\">Here's Why Facebook (FB) Stock Looks Like a Buy</a> <span style=\"color:#aa6dc0;font-size:9px\">Zacks</span></td></tr>\n",
       "<tr><td align=\"right\" width=\"130\">05:16PM  </td><td align=\"left\"><a class=\"tab-link-news\" href=\"https://finance.yahoo.com/news/guru-philippe-laffonts-top-5-221619086.html\" target=\"_blank\">New Guru Philippe Laffont's Top 5 Holdings</a> <span style=\"color:#aa6dc0;font-size:9px\">GuruFocus.com</span></td></tr>\n",
       "<tr><td align=\"right\" width=\"130\">04:14PM  </td><td align=\"left\"><a class=\"tab-link-news\" href=\"https://finance.yahoo.com/video/mark-zuckerberg-step-away-facebook-211443945.html\" target=\"_blank\">Should Mark Zuckerberg step away from Facebook?</a> <span style=\"color:#aa6dc0;font-size:9px\">Fox Business Videos</span></td></tr>\n",
       "<tr><td align=\"right\" width=\"130\">04:05PM  </td><td align=\"left\"><a class=\"tab-link-news\" href=\"https://finance.yahoo.com/news/facebook-announce-fourth-quarter-full-210500836.html\" target=\"_blank\">Facebook to Announce Fourth Quarter and Full Year 2018 Results</a> <span style=\"color:#aa6dc0;font-size:9px\">PR Newswire</span></td></tr>\n",
       "<tr><td align=\"right\" width=\"130\">02:25PM  </td><td align=\"left\"><a class=\"tab-link-news\" href=\"https://www.investors.com/news/technology/faang-stocks-2019-predictions/?src=A00220&amp;yptr=yahoo\" target=\"_blank\">Mighty FAANG Stocks No Longer A Sure Bet For 2019 Stock Year</a> <span style=\"color:#aa6dc0;font-size:9px\">Investor's Business Daily</span></td></tr>\n",
       "<tr><td align=\"right\" width=\"130\">02:15PM  </td><td align=\"left\"><a class=\"tab-link-news\" href=\"https://finance.yahoo.com/news/chart-implies-google-stock-due-191530934.html\" target=\"_blank\">This Chart Implies That Google Stock Is Due for a 20% Rally</a> <span style=\"color:#aa6dc0;font-size:9px\">InvestorPlace</span></td></tr>\n",
       "<tr><td align=\"right\" width=\"130\">01:36PM  </td><td align=\"left\"><a class=\"tab-link-news\" href=\"https://finance.yahoo.com/news/insiders-buying-stocks-2019-183606954.html\" target=\"_blank\">Will Insiders Be Buying Stocks in 2019?</a> <span style=\"color:#aa6dc0;font-size:9px\">Zacks</span></td></tr>\n",
       "<tr><td align=\"right\" width=\"130\">12:10PM  </td><td align=\"left\"><a class=\"tab-link-news\" href=\"https://www.investors.com/market-trend/stock-market-today/stock-market-news-tesla-stock-falls-after-deliveries-disappoint/?src=A00220&amp;yptr=yahoo\" target=\"_blank\">Stock Market News: Nasdaq Pares 1.9% Intraday Loss As Chip Stocks Lead</a> <span style=\"color:#aa6dc0;font-size:9px\">Investor's Business Daily</span></td></tr>\n",
       "<tr><td align=\"right\" width=\"130\">11:01AM  </td><td align=\"left\"><a class=\"tab-link-news\" href=\"https://finance.yahoo.com/news/3-reasons-why-google-stock-160150373.html\" target=\"_blank\">3 Reasons Why Google Stock Is a FANG You Can Trust</a> <span style=\"color:#aa6dc0;font-size:9px\">InvestorPlace</span></td></tr>\n",
       "<tr><td align=\"right\" width=\"130\">10:16AM  </td><td align=\"left\"><a class=\"tab-link-news\" href=\"https://finance.yahoo.com/news/netflix-stock-bull-case-looks-151616038.html\" target=\"_blank\">Netflix Stocks Bull Case Looks Even Stronger</a> <span style=\"color:#aa6dc0;font-size:9px\">InvestorPlace</span></td></tr>\n",
       "<tr><td align=\"right\" width=\"130\">10:12AM  </td><td align=\"left\"><a class=\"tab-link-news\" href=\"https://www.investors.com/research/warren-buffett-stocks-investment-strategy-branch/?src=A00220&amp;yptr=yahoo\" target=\"_blank\">Warren Buffett Stocks: Who Joins Nvidia, Alibaba, Facebook On This Screen?</a> <span style=\"color:#aa6dc0;font-size:9px\">Investor's Business Daily</span></td></tr>\n",
       "<tr><td align=\"right\" width=\"130\">09:53AM  </td><td align=\"left\"><a class=\"tab-link-news\" href=\"https://finance.yahoo.com/video/apple-amazon-sell-off-overdone-145300086.html\" target=\"_blank\">Apple, Amazon sell-off overdone, research analyst says</a> <span style=\"color:#aa6dc0;font-size:9px\">CNBC Videos</span></td></tr>\n",
       "<tr><td align=\"right\" width=\"130\">09:38AM  </td><td align=\"left\"><a class=\"tab-link-news\" href=\"https://www.investors.com/market-trend/stock-market-today/stock-market-futures-dive-dow-jones-chip-maker-takes-a-hit/?src=A00220&amp;yptr=yahoo\" target=\"_blank\">Stocks Dive As China Tariffs Bite; Dow Jones Drops 350 Points</a> <span style=\"color:#aa6dc0;font-size:9px\">Investor's Business Daily</span></td></tr>\n",
       "<tr><td align=\"right\" width=\"130\">09:30AM  </td><td align=\"left\"><a class=\"tab-link-news\" href=\"https://finance.yahoo.com/news/3-reasons-why-bought-stocks-143000198.html\" target=\"_blank\">3 Reasons Why I Bought Stocks on Monday</a> <span style=\"color:#aa6dc0;font-size:9px\">Motley Fool</span></td></tr>\n",
       "<tr><td align=\"right\" width=\"130\">08:53AM  </td><td align=\"left\"><a class=\"tab-link-news\" href=\"https://www.investopedia.com/oversold-facebook-set-for-big-bounce-4582615?utm_campaign=quote-yahoo&amp;utm_source=yahoo&amp;utm_medium=referral&amp;yptr=yahoo\" target=\"_blank\">Oversold Facebook Stock Set for Big Bounce</a> <span style=\"color:#aa6dc0;font-size:9px\">Investopedia</span></td></tr>\n",
       "<tr><td align=\"right\" width=\"130\">08:27AM  </td><td align=\"left\"><a class=\"tab-link-news\" href=\"https://finance.yahoo.com/news/top-5-roe-stocks-invest-132701421.html\" target=\"_blank\">Top 5 ROE Stocks to Invest in Now to Beat Market Blues</a> <span style=\"color:#aa6dc0;font-size:9px\">Zacks</span></td></tr>\n",
       "<tr><td align=\"right\" width=\"130\">08:13AM  </td><td align=\"left\"><a class=\"tab-link-news\" href=\"https://www.wsj.com/articles/cyber-daily-ceos-must-step-up-11546434805?mod=yahoo_hs&amp;yptr=yahoo\" target=\"_blank\">[$$] Cyber Daily: CEOs Must Step Up</a> <span style=\"color:#aa6dc0;font-size:9px\">The Wall Street Journal</span></td></tr>\n",
       "<tr><td align=\"right\" width=\"130\">07:51AM  </td><td align=\"left\"><a class=\"tab-link-news\" href=\"https://uk.news.yahoo.com/facebook-messenger-tests-dark-mode-125139981.html\" target=\"_blank\">Facebook Messenger tests Dark Mode to put less strain on users' eyes</a> <span style=\"color:#aa6dc0;font-size:9px\">The Independent</span></td></tr>\n",
       "<tr><td align=\"right\" width=\"130\">07:09AM  </td><td align=\"left\"><a class=\"tab-link-news\" href=\"https://www.wsj.com/articles/sure-unfriend-herthen-brace-for-an-awkward-new-years-eve-11546195586?mod=yahoo_hs&amp;yptr=yahoo\" target=\"_blank\">During the Holidays, Unfriend Irksome Relatives at Your Own Risk</a> <span style=\"color:#aa6dc0;font-size:9px\">The Wall Street Journal</span></td></tr>\n",
       "<tr><td align=\"right\" width=\"130\">06:12AM  </td><td align=\"left\"><a class=\"tab-link-news\" href=\"https://finance.yahoo.com/news/facebook-rises-3-111203281.html\" target=\"_blank\">Facebook Rises 3%</a> <span style=\"color:#aa6dc0;font-size:9px\">Investing.com</span></td></tr>\n",
       "<tr><td align=\"right\" style=\"white-space:nowrap\" width=\"130\">Jan-01-19 10:48PM  </td><td align=\"left\"><a class=\"tab-link-news\" href=\"https://finance.yahoo.com/news/google-wins-u-approval-radar-034834588.html\" target=\"_blank\">Google wins U.S. approval for radar-based hand motion sensor</a> <span style=\"color:#aa6dc0;font-size:9px\">Reuters</span></td></tr>\n",
       "<tr><td align=\"right\" width=\"130\">09:21AM  </td><td align=\"left\"><a class=\"tab-link-news\" href=\"https://www.thestreet.com/opinion/20-realistic-tech-predictions-for-2019-part-two-14812271?puc=yahoo&amp;cm_ven=YAHOO&amp;yptr=yahoo\" target=\"_blank\">20 Realistic Tech Predictions for 2019 -- Part Two</a> <span style=\"color:#aa6dc0;font-size:9px\">TheStreet.com</span></td></tr>\n",
       "<tr><td align=\"right\" width=\"130\">12:00AM  </td><td align=\"left\"><a class=\"tab-link-news\" href=\"https://finance.yahoo.com/news/2018-review-roller-coaster-market-050000575.html\" target=\"_blank\">2018: A Year in Review for a Roller-Coaster Market</a> <span style=\"color:#aa6dc0;font-size:9px\">Motley Fool</span></td></tr>\n",
       "<tr><td align=\"right\" style=\"white-space:nowrap\" width=\"130\">Dec-31-18 05:51PM  </td><td align=\"left\"><a class=\"tab-link-news\" href=\"https://finance.yahoo.com/video/facebook-mark-zuckerberg-lost-22-225127851.html\" target=\"_blank\">Facebooks Mark Zuckerberg lost $22 billion in 2018: Report</a> <span style=\"color:#aa6dc0;font-size:9px\">Fox Business Videos</span></td></tr>\n",
       "<tr><td align=\"right\" width=\"130\">04:01PM  </td><td align=\"left\"><a class=\"tab-link-news\" href=\"https://www.cnbc.com/2018/12/31/how-facebooks-stocked-fared-through-privacy-scandals-in-2018.html?__source=yahoo%7Cfinance%7Cheadline%7Cstory%7C&amp;par=yahoo&amp;yptr=yahoo\" target=\"_blank\">Facebook's worst year ever is now over. Here's how its scandals affected the stock</a> <span style=\"color:#aa6dc0;font-size:9px\">CNBC</span></td></tr>\n",
       "<tr><td align=\"right\" width=\"130\">04:01PM  </td><td align=\"left\"><a class=\"tab-link-news\" href=\"https://www.cnbc.com/2018/12/31/faang-stocks-2018-performance.html?__source=yahoo%7Cfinance%7Cheadline%7Cstory%7C&amp;par=yahoo&amp;yptr=yahoo\" target=\"_blank\">A year ago the FAANG stocks were a hot buy  here's where they stand heading into 2019</a> <span style=\"color:#aa6dc0;font-size:9px\">CNBC</span></td></tr>\n",
       "<tr><td align=\"right\" width=\"130\">02:53PM  </td><td align=\"left\"><a class=\"tab-link-news\" href=\"https://finance.yahoo.com/news/netflix-rises-2018-faang-leader-195350536.html\" target=\"_blank\">Netflix Rises as 2018 FAANG Leader Closes Out Year With a Rally</a> <span style=\"color:#aa6dc0;font-size:9px\">Bloomberg</span></td></tr>\n",
       "<tr><td align=\"right\" width=\"130\">01:59PM  </td><td align=\"left\"><a class=\"tab-link-news\" href=\"https://finance.yahoo.com/news/facebook-falls-midday-bringing-communication-185900243.html\" target=\"_blank\">Facebook Falls Midday, Bringing Communication Services Index Down</a> <span style=\"color:#aa6dc0;font-size:9px\">Investing.com</span></td></tr>\n",
       "<tr><td align=\"right\" width=\"130\">11:41AM  </td><td align=\"left\"><a class=\"tab-link-news\" href=\"https://finance.yahoo.com/video/expert-likely-us-see-data-164100895.html\" target=\"_blank\">Expert: It's likely the US will see a data privacy law in...</a> <span style=\"color:#aa6dc0;font-size:9px\">CNBC Videos</span></td></tr>\n",
       "<tr><td align=\"right\" width=\"130\">11:34AM  </td><td align=\"left\"><a class=\"tab-link-news\" href=\"https://finance.yahoo.com/video/tech-had-rocky-2018-heres-163400377.html\" target=\"_blank\">Tech had a rocky 2018. Here's what 2019 might look like.</a> <span style=\"color:#aa6dc0;font-size:9px\">CNBC Videos</span></td></tr>\n",
       "<tr><td align=\"right\" width=\"130\">11:16AM  </td><td align=\"left\"><a class=\"tab-link-news\" href=\"https://finance.yahoo.com/video/recodes-kara-swisher-lays-2019-161600116.html\" target=\"_blank\">Recode's Kara Swisher lays out 2019 tech predictions</a> <span style=\"color:#aa6dc0;font-size:9px\">CNBC Videos</span></td></tr>\n",
       "<tr><td align=\"right\" width=\"130\">10:35AM  </td><td align=\"left\"><a class=\"tab-link-news\" href=\"https://finance.yahoo.com/news/why-worst-may-over-tencent-153552530.html\" target=\"_blank\">Why the Worst May Be Over for Tencent Stock</a> <span style=\"color:#aa6dc0;font-size:9px\">InvestorPlace</span></td></tr>\n",
       "<tr><td align=\"right\" width=\"130\">10:31AM  </td><td align=\"left\"><a class=\"tab-link-news\" href=\"https://finance.yahoo.com/news/facebook-stock-finally-found-bottom-153112990.html\" target=\"_blank\">Facebook Stock Finally Has Found the Bottom and Will Build a Great 2019</a> <span style=\"color:#aa6dc0;font-size:9px\">InvestorPlace</span></td></tr>\n",
       "<tr><td align=\"right\" width=\"130\">10:23AM  </td><td align=\"left\"><a class=\"tab-link-news\" href=\"https://www.bizjournals.com/sanjose/news/2018/12/31/venture-investing-in-2018-seed-deals-saudis.html?ana=yahoo&amp;yptr=yahoo\" target=\"_blank\">Venture investing in 2018: Seed deals, Saudis, scooters and more</a> <span style=\"color:#aa6dc0;font-size:9px\">American City Business Journals</span></td></tr>\n",
       "<tr><td align=\"right\" width=\"130\">09:04AM  </td><td align=\"left\"><a class=\"tab-link-news\" href=\"https://finance.yahoo.com/news/twitter-accounts-hacked-demo-reveal-140402025.html\" target=\"_blank\">Twitter Accounts Get Hacked for Demo to Reveal Security Gaps</a> <span style=\"color:#aa6dc0;font-size:9px\">Zacks</span></td></tr>\n",
       "<tr><td align=\"right\" width=\"130\">08:00AM  </td><td align=\"left\"><a class=\"tab-link-news\" href=\"https://finance.yahoo.com/news/better-buy-facebook-vs-twitter-130000456.html\" target=\"_blank\">Better Buy: Facebook vs. Twitter</a> <span style=\"color:#aa6dc0;font-size:9px\">Motley Fool</span></td></tr>\n",
       "<tr><td align=\"right\" width=\"130\">07:30AM  </td><td align=\"left\"><a class=\"tab-link-news\" href=\"https://finance.yahoo.com/video/maxim-analyst-expects-tech-rally-123000525.html\" target=\"_blank\">Maxim analyst expects tech rally in 2019</a> <span style=\"color:#aa6dc0;font-size:9px\">CNBC Videos</span></td></tr>\n",
       "<tr><td align=\"right\" width=\"130\">07:06AM  </td><td align=\"left\"><a class=\"tab-link-news\" href=\"https://finance.yahoo.com/video/android-apps-sharing-data-facebook-120626780.html\" target=\"_blank\">Android apps sharing data with Facebook without users' consent: Report</a> <span style=\"color:#aa6dc0;font-size:9px\">Fox Business Videos</span></td></tr>\n",
       "<tr><td align=\"right\" style=\"white-space:nowrap\" width=\"130\">Dec-30-18 08:00PM  </td><td align=\"left\"><a class=\"tab-link-news\" href=\"https://finance.yahoo.com/news/looks-verizon-apos-online-advertising-010000780.html\" target=\"_blank\">It Looks Like Verizon's Online Advertising Project Is a Flop</a> <span style=\"color:#aa6dc0;font-size:9px\">Motley Fool</span></td></tr>\n",
       "<tr><td align=\"right\" width=\"130\">05:45PM  </td><td align=\"left\"><a class=\"tab-link-news\" href=\"https://finance.yahoo.com/news/did-facebook-just-become-best-224500422.html\" target=\"_blank\">Did Facebook Just Become the Best Way to Invest in Blockchain?</a> <span style=\"color:#aa6dc0;font-size:9px\">Motley Fool</span></td></tr>\n",
       "<tr><td align=\"right\" width=\"130\">04:30PM  </td><td align=\"left\"><a class=\"tab-link-news\" href=\"https://finance.yahoo.com/news/facebook-chases-square-peer-peer-213000609.html\" target=\"_blank\">Facebook Chases Square Into the Peer-to-Peer Crypto Market</a> <span style=\"color:#aa6dc0;font-size:9px\">Motley Fool</span></td></tr>\n",
       "<tr><td align=\"right\" width=\"130\">03:39PM  </td><td align=\"left\"><a class=\"tab-link-news\" href=\"https://finance.yahoo.com/news/benzingas-bulls-bears-week-amazon-203905654.html\" target=\"_blank\">Benzinga's Bulls &amp; Bears Of The Week: Amazon, Apple, Disney, Facebook, GM And More</a> <span style=\"color:#aa6dc0;font-size:9px\">Benzinga</span></td></tr>\n",
       "<tr><td align=\"right\" width=\"130\">03:23PM  </td><td align=\"left\"><a class=\"tab-link-news\" href=\"https://finance.yahoo.com/news/think-snap-bargain-think-again-202300903.html\" target=\"_blank\">Think Snap Is a Bargain? Think Again.</a> <span style=\"color:#aa6dc0;font-size:9px\">Motley Fool</span></td></tr>\n",
       "<tr><td align=\"right\" width=\"130\">02:10PM  </td><td align=\"left\"><a class=\"tab-link-news\" href=\"https://www.bizjournals.com/sanfrancisco/news/2018/12/30/most-read-bay-area-business-news-2018.html?ana=yahoo&amp;yptr=yahoo\" target=\"_blank\">A look back at the most read Bay Area business news of 2018</a> <span style=\"color:#aa6dc0;font-size:9px\">American City Business Journals</span></td></tr>\n",
       "<tr><td align=\"right\" style=\"white-space:nowrap\" width=\"130\">Dec-29-18 07:00PM  </td><td align=\"left\"><a class=\"tab-link-news\" href=\"https://finance.yahoo.com/news/half-billion-millennial-voters-face-000018501.html\" target=\"_blank\">Half a Billion Millennial Voters Are Face of Asia 2019</a> <span style=\"color:#aa6dc0;font-size:9px\">Bloomberg</span></td></tr>\n",
       "<tr><td align=\"right\" width=\"130\">04:43PM  </td><td align=\"left\"><a class=\"tab-link-news\" href=\"https://finance.yahoo.com/news/tech-stocks-week-amazon-apos-214300172.html\" target=\"_blank\">Tech Stocks This Week: Amazon's Big Holiday, A Bullish Call on Facebook, and More</a> <span style=\"color:#aa6dc0;font-size:9px\">Motley Fool</span></td></tr>\n",
       "<tr><td align=\"right\" width=\"130\">07:00AM  </td><td align=\"left\"><a class=\"tab-link-news\" href=\"https://qz.com/1510494/facebook-has-been-thinking-about-moderation-all-wrong/?utm_source=YPL&amp;yptr=yahoo\" target=\"_blank\">Facebook has been thinking about moderation all wrong</a> <span style=\"color:#aa6dc0;font-size:9px\">Quartz</span></td></tr>\n",
       "<tr><td align=\"right\" style=\"white-space:nowrap\" width=\"130\">Dec-28-18 10:58PM  </td><td align=\"left\"><a class=\"tab-link-news\" href=\"https://finance.yahoo.com/news/review-3-reckless-predictions-stocks-035800326.html\" target=\"_blank\">Year in Review 3: Reckless Predictions and Stocks to Watch in 2019</a> <span style=\"color:#aa6dc0;font-size:9px\">Motley Fool</span></td></tr>\n",
       "<tr><td align=\"right\" width=\"130\">05:50PM  </td><td align=\"left\"><a class=\"tab-link-news\" href=\"https://finance.yahoo.com/news/facebook-fb-struggles-regulate-content-225010919.html\" target=\"_blank\">Facebook (FB) Struggles to Regulate Content on Its Platform</a> <span style=\"color:#aa6dc0;font-size:9px\">Zacks</span></td></tr>\n",
       "<tr><td align=\"right\" width=\"130\">04:34PM  </td><td align=\"left\"><a class=\"tab-link-news\" href=\"https://finance.yahoo.com/video/facebook-might-undergo-fundamental-change-213400449.html\" target=\"_blank\">Facebook might need to undergo 'fundamental change' in or...</a> <span style=\"color:#aa6dc0;font-size:9px\">CNBC Videos</span></td></tr>\n",
       "<tr><td align=\"right\" width=\"130\">04:13PM  </td><td align=\"left\"><a class=\"tab-link-news\" href=\"https://www.thestreet.com/investing/stocks/markets-go-higher-as-wall-street-pushes-for-3-day-winning-streak-14821417?puc=yahoo&amp;cm_ven=YAHOO&amp;yptr=yahoo\" target=\"_blank\">Markets End Tumultuous Day in the Red, Mini-Rally Ends at 2 Sessions</a> <span style=\"color:#aa6dc0;font-size:9px\">TheStreet.com</span></td></tr>\n",
       "<tr><td align=\"right\" width=\"130\">04:09PM  </td><td align=\"left\"><a class=\"tab-link-news\" href=\"https://www.barrons.com/articles/why-trust-is-the-no-1-issue-for-tech-in-2019-51546031371?siteid=yhoof2&amp;yptr=yahoo\" target=\"_blank\">Regaining Trust Is the No. 1 Issue for Tech in 2019</a> <span style=\"color:#aa6dc0;font-size:9px\">Barrons.com</span></td></tr>\n",
       "<tr><td align=\"right\" width=\"130\">03:17PM  </td><td align=\"left\"><a class=\"tab-link-news\" href=\"https://finance.yahoo.com/video/facebook-under-fire-over-secret-201733485.html\" target=\"_blank\">Facebook under fire over secret rulebook</a> <span style=\"color:#aa6dc0;font-size:9px\">Fox Business Videos</span></td></tr>\n",
       "<tr><td align=\"right\" width=\"130\">02:57PM  </td><td align=\"left\"><a class=\"tab-link-news\" href=\"https://finance.yahoo.com/news/accidental-instagram-horizontal-scrolling-causes-195751715.html\" target=\"_blank\">Accidental Instagram Update of Horizontal Scrolling Causes Uproar</a> <span style=\"color:#aa6dc0;font-size:9px\">InvestorPlace</span></td></tr>\n",
       "<tr><td align=\"right\" width=\"130\">02:44PM  </td><td align=\"left\"><a class=\"tab-link-news\" href=\"https://www.thestreet.com/technology/facebook-ceo-company-has-altered-its-dna-14821628?puc=yahoo&amp;cm_ven=YAHOO&amp;yptr=yahoo\" target=\"_blank\">Zuckerberg Claims Facebook Has 'Fundamentally Altered' Its DNA</a> <span style=\"color:#aa6dc0;font-size:9px\">TheStreet.com</span></td></tr>\n",
       "<tr><td align=\"right\" width=\"130\">01:46PM  </td><td align=\"left\"><a class=\"tab-link-news\" href=\"https://finance.yahoo.com/news/facebook-ceo-zuckerberg-says-problems-184652398.html\" target=\"_blank\">Facebook CEO Zuckerberg Says Problems Will Take Years to Fix</a> <span style=\"color:#aa6dc0;font-size:9px\">Bloomberg</span></td></tr>\n",
       "<tr><td align=\"right\" width=\"130\">01:30PM  </td><td align=\"left\"><a class=\"tab-link-news\" href=\"https://uk.finance.yahoo.com/news/zuckerberg-facebook-never-fully-stop-183014766.html\" target=\"_blank\">Zuckerberg: Facebook can never fully stop use of platform for election meddling</a> <span style=\"color:#aa6dc0;font-size:9px\">The Telegraph</span></td></tr>\n",
       "<tr><td align=\"right\" width=\"130\">11:35AM  </td><td align=\"left\"><a class=\"tab-link-news\" href=\"https://finance.yahoo.com/news/why-investors-avoid-snap-stock-163543064.html\" target=\"_blank\">Why Investors Should Avoid Snap Stock</a> <span style=\"color:#aa6dc0;font-size:9px\">InvestorPlace</span></td></tr>\n",
       "</table>"
      ]
     },
     "execution_count": 12,
     "metadata": {},
     "output_type": "execute_result"
    }
   ],
   "source": [
    "html_table"
   ]
  },
  {
   "cell_type": "code",
   "execution_count": 14,
   "metadata": {},
   "outputs": [],
   "source": [
    "html_tables[\"fb_05ene.html\"] = html_table"
   ]
  },
  {
   "cell_type": "code",
   "execution_count": 15,
   "metadata": {},
   "outputs": [
    {
     "data": {
      "text/plain": [
       "{'fb_05ene.html': <table border=\"0\" cellpadding=\"1\" cellspacing=\"0\" class=\"fullview-news-outer\" id=\"news-table\" width=\"100%\">\n",
       " <tr><td align=\"right\" style=\"white-space:nowrap\" width=\"130\">Jan-04-19 06:22PM  </td><td align=\"left\"><a class=\"tab-link-news\" href=\"https://www.thestreet.com/technology/faang-stocks-14825211?puc=yahoo&amp;cm_ven=YAHOO&amp;yptr=yahoo\" target=\"_blank\">Facebook, Apple, Netflix, Amazon and Alphabet Power Friday Gains</a> <span style=\"color:#aa6dc0;font-size:9px\">TheStreet.com</span></td></tr>\n",
       " <tr><td align=\"right\" width=\"130\">05:15PM  </td><td align=\"left\"><a class=\"tab-link-news\" href=\"https://finance.yahoo.com/news/earnings-calendar-week-dec-11-192003013.html\" target=\"_blank\">Earnings Reports for the Week of Jan. 7-11 (BBBY, KBH)</a> <span style=\"color:#aa6dc0;font-size:9px\">Kiplinger</span></td></tr>\n",
       " <tr><td align=\"right\" width=\"130\">04:55PM  </td><td align=\"left\"><a class=\"tab-link-news\" href=\"https://finance.yahoo.com/news/column-commentary-2019-more-state-215519079.html\" target=\"_blank\">COLUMN-Commentary: 2019 will be the year of more state control</a> <span style=\"color:#aa6dc0;font-size:9px\">Reuters</span></td></tr>\n",
       " <tr><td align=\"right\" width=\"130\">04:53PM  </td><td align=\"left\"><a class=\"tab-link-news\" href=\"https://www.barrons.com/articles/technology-trends-2019-51546007213?siteid=yhoof2&amp;yptr=yahoo\" target=\"_blank\">3 Tech Trends to Watch in 2019</a> <span style=\"color:#aa6dc0;font-size:9px\">Barrons.com</span></td></tr>\n",
       " <tr><td align=\"right\" width=\"130\">04:30PM  </td><td align=\"left\"><a class=\"tab-link-news\" href=\"https://www.bizjournals.com/denver/news/2019/01/04/denver-tech-growth-2019.html?ana=yahoo&amp;yptr=yahoo\" target=\"_blank\">Will Denver's tech growth continue in 2019?</a> <span style=\"color:#aa6dc0;font-size:9px\">American City Business Journals</span></td></tr>\n",
       " <tr><td align=\"right\" width=\"130\">02:46PM  </td><td align=\"left\"><a class=\"tab-link-news\" href=\"https://finance.yahoo.com/news/facebook-prioritize-video-2019-194600276.html\" target=\"_blank\">Facebook to Prioritize Video in 2019</a> <span style=\"color:#aa6dc0;font-size:9px\">Motley Fool</span></td></tr>\n",
       " <tr><td align=\"right\" width=\"130\">01:52PM  </td><td align=\"left\"><a class=\"tab-link-news\" href=\"https://finance.yahoo.com/news/scottevest-ceo-facebook-passion-project-185250663.html\" target=\"_blank\">ScotteVest CEO: How a Facebook Passion Project Evolved into a New Business</a> <span style=\"color:#aa6dc0;font-size:9px\">CorpGov.com</span></td></tr>\n",
       " <tr><td align=\"right\" width=\"130\">01:47PM  </td><td align=\"left\"><a class=\"tab-link-news\" href=\"https://www.investopedia.com/millennials-load-up-on-battered-apple-facebook-amd-4582768?utm_campaign=quote-yahoo&amp;utm_source=yahoo&amp;utm_medium=referral&amp;yptr=yahoo\" target=\"_blank\">Millennials Load Up on Battered Apple, Facebook, GE</a> <span style=\"color:#aa6dc0;font-size:9px\">Investopedia</span></td></tr>\n",
       " <tr><td align=\"right\" width=\"130\">01:00PM  </td><td align=\"left\"><a class=\"tab-link-news\" href=\"https://finance.yahoo.com/news/faangs-see-weak-start-2019-180006783.html\" target=\"_blank\">FAANGs See a Weak Start to 2019: More Pain Ahead for ETFs?</a> <span style=\"color:#aa6dc0;font-size:9px\">Zacks</span></td></tr>\n",
       " <tr><td align=\"right\" width=\"130\">12:18PM  </td><td align=\"left\"><a class=\"tab-link-news\" href=\"https://www.marketwatch.com/story/netflix-shares-soar-7-as-goldman-adds-stock-to-its-conviction-list-2019-01-04?siteid=yhoof2&amp;yptr=yahoo\" target=\"_blank\">U[PDATE: Netflix shares soar 9% as Goldman adds stock to its Conviction List</a> <span style=\"color:#aa6dc0;font-size:9px\">MarketWatch</span></td></tr>\n",
       " <tr><td align=\"right\" width=\"130\">12:11PM  </td><td align=\"left\"><a class=\"tab-link-news\" href=\"https://finance.yahoo.com/news/strategy-stock-pickers-2019-171100616.html\" target=\"_blank\">What Strategy Should Stock Pickers Use in 2019?</a> <span style=\"color:#aa6dc0;font-size:9px\">Motley Fool</span></td></tr>\n",
       " <tr><td align=\"right\" width=\"130\">11:54AM  </td><td align=\"left\"><a class=\"tab-link-news\" href=\"https://finance.yahoo.com/news/7-tech-stocks-without-china-165446187.html\" target=\"_blank\">7 Tech Stocks Without China Exposure</a> <span style=\"color:#aa6dc0;font-size:9px\">InvestorPlace</span></td></tr>\n",
       " <tr><td align=\"right\" width=\"130\">11:08AM  </td><td align=\"left\"><a class=\"tab-link-news\" href=\"https://finance.yahoo.com/news/amazon-amzn-faces-strike-hurdles-160804715.html\" target=\"_blank\">Amazon (AMZN) Faces Strike Hurdles Before Epiphany in Spain</a> <span style=\"color:#aa6dc0;font-size:9px\">Zacks</span></td></tr>\n",
       " <tr><td align=\"right\" width=\"130\">10:16AM  </td><td align=\"left\"><a class=\"tab-link-news\" href=\"https://www.marketwatch.com/story/apples-stock-price-wont-recover-and-9-more-bold-predictions-for-2019-2019-01-04?siteid=yhoof2&amp;yptr=yahoo\" target=\"_blank\">Apples stock price wont recover and 9 more bold predictions for 2019</a> <span style=\"color:#aa6dc0;font-size:9px\">MarketWatch</span></td></tr>\n",
       " <tr><td align=\"right\" width=\"130\">10:06AM  </td><td align=\"left\"><a class=\"tab-link-news\" href=\"https://finance.yahoo.com/news/facebook-earnings-mark-calendar-150600463.html\" target=\"_blank\">Facebook Earnings: Mark Your Calendar</a> <span style=\"color:#aa6dc0;font-size:9px\">Motley Fool</span></td></tr>\n",
       " <tr><td align=\"right\" width=\"130\">10:03AM  </td><td align=\"left\"><a class=\"tab-link-news\" href=\"https://finance.yahoo.com/news/rbcs-mahaney-tech-reckoning-already-150315599.html\" target=\"_blank\">RBC's Mahaney: Tech 'Reckoning' Already Occurred</a> <span style=\"color:#aa6dc0;font-size:9px\">Benzinga</span></td></tr>\n",
       " <tr><td align=\"right\" width=\"130\">09:28AM  </td><td align=\"left\"><a class=\"tab-link-news\" href=\"https://www.bizjournals.com/sanjose/news/2019/01/04/mark-zuckerberg-facebook-stock-selling-fb.html?ana=yahoo&amp;yptr=yahoo\" target=\"_blank\">Mark Zuckerberg hits pause on his plan to sell billions of dollars worth of Facebook stock</a> <span style=\"color:#aa6dc0;font-size:9px\">American City Business Journals</span></td></tr>\n",
       " <tr><td align=\"right\" width=\"130\">08:35AM  </td><td align=\"left\"><a class=\"tab-link-news\" href=\"https://finance.yahoo.com/news/social-media-etf-stung-analyst-133514938.html\" target=\"_blank\">Social Media ETF Stung By Analyst Downgrades</a> <span style=\"color:#aa6dc0;font-size:9px\">ETF Trends</span></td></tr>\n",
       " <tr><td align=\"right\" width=\"130\">08:33AM  </td><td align=\"left\"><a class=\"tab-link-news\" href=\"https://finance.yahoo.com/news/twitter-still-vulnerable-hacking-terrorist-133301376.html\" target=\"_blank\">Twitter Still Vulnerable to Hacking by Terrorist Groups</a> <span style=\"color:#aa6dc0;font-size:9px\">Zacks</span></td></tr>\n",
       " <tr><td align=\"right\" width=\"130\">06:00AM  </td><td align=\"left\"><a class=\"tab-link-news\" href=\"https://www.barrons.com/articles/apple-vs-facebook-whos-had-the-worse-run-51546599600?siteid=yhoof2&amp;yptr=yahoo\" target=\"_blank\">Apple vs. Facebook. Whos Had the Worse Run?</a> <span style=\"color:#aa6dc0;font-size:9px\">Barrons.com</span></td></tr>\n",
       " <tr><td align=\"right\" width=\"130\">05:26AM  </td><td align=\"left\"><a class=\"tab-link-news\" href=\"https://finance.yahoo.com/news/facebook-rises-3-102607462.html\" target=\"_blank\">Facebook Rises 3%</a> <span style=\"color:#aa6dc0;font-size:9px\">Investing.com</span></td></tr>\n",
       " <tr><td align=\"right\" style=\"white-space:nowrap\" width=\"130\">Jan-03-19 10:59PM  </td><td align=\"left\"><a class=\"tab-link-news\" href=\"https://www.wsj.com/articles/facebook-begins-new-year-in-fixer-upper-mode-11546554725?ru=yahoo?mod=yahoo_itp&amp;yptr=yahoo\" target=\"_blank\">[$$] Facebook Begins New Year in Fixer-Upper Mode</a> <span style=\"color:#aa6dc0;font-size:9px\">The Wall Street Journal</span></td></tr>\n",
       " <tr><td align=\"right\" width=\"130\">05:45PM  </td><td align=\"left\"><a class=\"tab-link-news\" href=\"https://finance.yahoo.com/news/investors-focused-too-closely-facebook-224500896.html\" target=\"_blank\">Investors Are Focused Too Closely on Facebook and Google's Market Share</a> <span style=\"color:#aa6dc0;font-size:9px\">Motley Fool</span></td></tr>\n",
       " <tr><td align=\"right\" width=\"130\">05:32PM  </td><td align=\"left\"><a class=\"tab-link-news\" href=\"https://www.wsj.com/articles/facebook-begins-new-year-in-fixer-upper-mode-11546554725?mod=yahoo_hs&amp;yptr=yahoo\" target=\"_blank\">[$$] Facebook Begins New Year in Fixer-Upper Mode</a> <span style=\"color:#aa6dc0;font-size:9px\">The Wall Street Journal</span></td></tr>\n",
       " <tr><td align=\"right\" width=\"130\">05:24PM  </td><td align=\"left\"><a class=\"tab-link-news\" href=\"https://finance.yahoo.com/news/facebook-fb-reportedly-testing-dark-222410360.html\" target=\"_blank\">Facebook (FB) Reportedly Testing Dark Mode on Messenger</a> <span style=\"color:#aa6dc0;font-size:9px\">Zacks</span></td></tr>\n",
       " <tr><td align=\"right\" width=\"130\">04:10PM  </td><td align=\"left\"><a class=\"tab-link-news\" href=\"https://www.investors.com/news/technology/google-alphabet-stock-upgraded-fang/?src=A00220&amp;yptr=yahoo\" target=\"_blank\">Google Stock Upgraded, Viewed As 'Most Defensive' FANG Amid Tech Sell-Off</a> <span style=\"color:#aa6dc0;font-size:9px\">Investor's Business Daily</span></td></tr>\n",
       " <tr><td align=\"right\" width=\"130\">03:26PM  </td><td align=\"left\"><a class=\"tab-link-news\" href=\"https://finance.yahoo.com/news/facebook-stock-best-fang-stock-202605905.html\" target=\"_blank\">Is Facebook Stock the Best FANG Stock to Buy?</a> <span style=\"color:#aa6dc0;font-size:9px\">InvestorPlace</span></td></tr>\n",
       " <tr><td align=\"right\" width=\"130\">03:14PM  </td><td align=\"left\"><a class=\"tab-link-news\" href=\"https://www.thestreet.com/technology/mark-zuckerberg-takes-a-break-from-selling-facebook-share-last-quarter-14823991?puc=yahoo&amp;cm_ven=YAHOO&amp;yptr=yahoo\" target=\"_blank\">Zuckerberg Paused His Selling of Facebook Shares, Analysts Say It's a Good Sign</a> <span style=\"color:#aa6dc0;font-size:9px\">TheStreet.com</span></td></tr>\n",
       " <tr><td align=\"right\" width=\"130\">01:36PM  </td><td align=\"left\"><a class=\"tab-link-news\" href=\"https://finance.yahoo.com/news/whats-next-apple-aapl-slashed-183606894.html\" target=\"_blank\">What's Next For Apple (AAPL) After It Slashed Its Q1 Sales Forecast?</a> <span style=\"color:#aa6dc0;font-size:9px\">Zacks</span></td></tr>\n",
       " <tr><td align=\"right\" width=\"130\">01:31PM  </td><td align=\"left\"><a class=\"tab-link-news\" href=\"https://finance.yahoo.com/news/money-run-twilio-stock-183157445.html\" target=\"_blank\">Take the Money And Run From Twilio Stock</a> <span style=\"color:#aa6dc0;font-size:9px\">InvestorPlace</span></td></tr>\n",
       " <tr><td align=\"right\" width=\"130\">12:25PM  </td><td align=\"left\"><a class=\"tab-link-news\" href=\"https://finance.yahoo.com/news/3-great-reasons-bullish-twilio-172537960.html\" target=\"_blank\">3 Great Reasons You Should Be Bullish on Twilio Stock</a> <span style=\"color:#aa6dc0;font-size:9px\">InvestorPlace</span></td></tr>\n",
       " <tr><td align=\"right\" width=\"130\">10:42AM  </td><td align=\"left\"><a class=\"tab-link-news\" href=\"https://finance.yahoo.com/news/why-netflix-stock-rise-back-154231276.html\" target=\"_blank\">Why Netflix Stock Will Rise Back Above $300 In 2019</a> <span style=\"color:#aa6dc0;font-size:9px\">InvestorPlace</span></td></tr>\n",
       " <tr><td align=\"right\" width=\"130\">10:21AM  </td><td align=\"left\"><a class=\"tab-link-news\" href=\"https://finance.yahoo.com/news/facebook-under-fire-collecting-data-152103660.html\" target=\"_blank\">Facebook Under Fire for Collecting Data From Android Apps</a> <span style=\"color:#aa6dc0;font-size:9px\">Zacks</span></td></tr>\n",
       " <tr><td align=\"right\" width=\"130\">10:08AM  </td><td align=\"left\"><a class=\"tab-link-news\" href=\"https://finance.yahoo.com/news/mark-zuckerberg-halts-stock-sales-150821186.html\" target=\"_blank\">Mark Zuckerberg Halts Stock Sales as Facebook Shares Tumble</a> <span style=\"color:#aa6dc0;font-size:9px\">Bloomberg</span></td></tr>\n",
       " <tr><td align=\"right\" width=\"130\">09:58AM  </td><td align=\"left\"><a class=\"tab-link-news\" href=\"https://finance.yahoo.com/news/facebook-falls-3-145803773.html\" target=\"_blank\">Facebook Falls 3%</a> <span style=\"color:#aa6dc0;font-size:9px\">Investing.com</span></td></tr>\n",
       " <tr><td align=\"right\" width=\"130\">09:48AM  </td><td align=\"left\"><a class=\"tab-link-news\" href=\"https://finance.yahoo.com/news/stock-market-news-jan-3-144802151.html\" target=\"_blank\">Stock Market News For Jan 3, 2019</a> <span style=\"color:#aa6dc0;font-size:9px\">Zacks</span></td></tr>\n",
       " <tr><td align=\"right\" width=\"130\">09:34AM  </td><td align=\"left\"><a class=\"tab-link-news\" href=\"https://finance.yahoo.com/video/apple-warning-stoking-fears-slowdown-143400656.html\" target=\"_blank\">Apple warning stoking fears of slowdown in Chinese econom...</a> <span style=\"color:#aa6dc0;font-size:9px\">CNBC Videos</span></td></tr>\n",
       " <tr><td align=\"right\" width=\"130\">09:12AM  </td><td align=\"left\"><a class=\"tab-link-news\" href=\"https://www.investopedia.com/why-the-faangs-are-crucial-to-a-2019-market-rally-4582621?utm_campaign=quote-yahoo&amp;utm_source=yahoo&amp;utm_medium=referral&amp;yptr=yahoo\" target=\"_blank\">Why The FAANGs Are Crucial To A 2019 Market Rally</a> <span style=\"color:#aa6dc0;font-size:9px\">Investopedia</span></td></tr>\n",
       " <tr><td align=\"right\" width=\"130\">09:07AM  </td><td align=\"left\"><a class=\"tab-link-news\" href=\"https://finance.yahoo.com/news/zacks-analyst-blog-highlights-facebook-140702958.html\" target=\"_blank\">The Zacks Analyst Blog Highlights: Facebook, Wells Fargo, AT&amp;T, Intel and Glaxo</a> <span style=\"color:#aa6dc0;font-size:9px\">Zacks</span></td></tr>\n",
       " <tr><td align=\"right\" width=\"130\">08:04AM  </td><td align=\"left\"><a class=\"tab-link-news\" href=\"https://finance.yahoo.com/news/3-big-stock-charts-thursday-130435665.html\" target=\"_blank\">3 Big Stock Charts for Thursday: Medtronic, Facebook and eBay</a> <span style=\"color:#aa6dc0;font-size:9px\">InvestorPlace</span></td></tr>\n",
       " <tr><td align=\"right\" width=\"130\">06:00AM  </td><td align=\"left\"><a class=\"tab-link-news\" href=\"https://finance.yahoo.com/news/why-internet-censorship-doesn-t-110016589.html\" target=\"_blank\">Why Internet Censorship Doesnt Work and Never Will</a> <span style=\"color:#aa6dc0;font-size:9px\">Bloomberg</span></td></tr>\n",
       " <tr><td align=\"right\" style=\"white-space:nowrap\" width=\"130\">Jan-02-19 10:35PM  </td><td align=\"left\"><a class=\"tab-link-news\" href=\"https://finance.yahoo.com/news/technology-stocks-bail-033515420.html\" target=\"_blank\">Technology Stocks: Should You Bail?</a> <span style=\"color:#aa6dc0;font-size:9px\">Kiplinger</span></td></tr>\n",
       " <tr><td align=\"right\" width=\"130\">06:46PM  </td><td align=\"left\"><a class=\"tab-link-news\" href=\"https://finance.yahoo.com/news/heres-why-facebook-fb-stock-234611231.html\" target=\"_blank\">Here's Why Facebook (FB) Stock Looks Like a Buy</a> <span style=\"color:#aa6dc0;font-size:9px\">Zacks</span></td></tr>\n",
       " <tr><td align=\"right\" width=\"130\">05:16PM  </td><td align=\"left\"><a class=\"tab-link-news\" href=\"https://finance.yahoo.com/news/guru-philippe-laffonts-top-5-221619086.html\" target=\"_blank\">New Guru Philippe Laffont's Top 5 Holdings</a> <span style=\"color:#aa6dc0;font-size:9px\">GuruFocus.com</span></td></tr>\n",
       " <tr><td align=\"right\" width=\"130\">04:14PM  </td><td align=\"left\"><a class=\"tab-link-news\" href=\"https://finance.yahoo.com/video/mark-zuckerberg-step-away-facebook-211443945.html\" target=\"_blank\">Should Mark Zuckerberg step away from Facebook?</a> <span style=\"color:#aa6dc0;font-size:9px\">Fox Business Videos</span></td></tr>\n",
       " <tr><td align=\"right\" width=\"130\">04:05PM  </td><td align=\"left\"><a class=\"tab-link-news\" href=\"https://finance.yahoo.com/news/facebook-announce-fourth-quarter-full-210500836.html\" target=\"_blank\">Facebook to Announce Fourth Quarter and Full Year 2018 Results</a> <span style=\"color:#aa6dc0;font-size:9px\">PR Newswire</span></td></tr>\n",
       " <tr><td align=\"right\" width=\"130\">02:25PM  </td><td align=\"left\"><a class=\"tab-link-news\" href=\"https://www.investors.com/news/technology/faang-stocks-2019-predictions/?src=A00220&amp;yptr=yahoo\" target=\"_blank\">Mighty FAANG Stocks No Longer A Sure Bet For 2019 Stock Year</a> <span style=\"color:#aa6dc0;font-size:9px\">Investor's Business Daily</span></td></tr>\n",
       " <tr><td align=\"right\" width=\"130\">02:15PM  </td><td align=\"left\"><a class=\"tab-link-news\" href=\"https://finance.yahoo.com/news/chart-implies-google-stock-due-191530934.html\" target=\"_blank\">This Chart Implies That Google Stock Is Due for a 20% Rally</a> <span style=\"color:#aa6dc0;font-size:9px\">InvestorPlace</span></td></tr>\n",
       " <tr><td align=\"right\" width=\"130\">01:36PM  </td><td align=\"left\"><a class=\"tab-link-news\" href=\"https://finance.yahoo.com/news/insiders-buying-stocks-2019-183606954.html\" target=\"_blank\">Will Insiders Be Buying Stocks in 2019?</a> <span style=\"color:#aa6dc0;font-size:9px\">Zacks</span></td></tr>\n",
       " <tr><td align=\"right\" width=\"130\">12:10PM  </td><td align=\"left\"><a class=\"tab-link-news\" href=\"https://www.investors.com/market-trend/stock-market-today/stock-market-news-tesla-stock-falls-after-deliveries-disappoint/?src=A00220&amp;yptr=yahoo\" target=\"_blank\">Stock Market News: Nasdaq Pares 1.9% Intraday Loss As Chip Stocks Lead</a> <span style=\"color:#aa6dc0;font-size:9px\">Investor's Business Daily</span></td></tr>\n",
       " <tr><td align=\"right\" width=\"130\">11:01AM  </td><td align=\"left\"><a class=\"tab-link-news\" href=\"https://finance.yahoo.com/news/3-reasons-why-google-stock-160150373.html\" target=\"_blank\">3 Reasons Why Google Stock Is a FANG You Can Trust</a> <span style=\"color:#aa6dc0;font-size:9px\">InvestorPlace</span></td></tr>\n",
       " <tr><td align=\"right\" width=\"130\">10:16AM  </td><td align=\"left\"><a class=\"tab-link-news\" href=\"https://finance.yahoo.com/news/netflix-stock-bull-case-looks-151616038.html\" target=\"_blank\">Netflix Stocks Bull Case Looks Even Stronger</a> <span style=\"color:#aa6dc0;font-size:9px\">InvestorPlace</span></td></tr>\n",
       " <tr><td align=\"right\" width=\"130\">10:12AM  </td><td align=\"left\"><a class=\"tab-link-news\" href=\"https://www.investors.com/research/warren-buffett-stocks-investment-strategy-branch/?src=A00220&amp;yptr=yahoo\" target=\"_blank\">Warren Buffett Stocks: Who Joins Nvidia, Alibaba, Facebook On This Screen?</a> <span style=\"color:#aa6dc0;font-size:9px\">Investor's Business Daily</span></td></tr>\n",
       " <tr><td align=\"right\" width=\"130\">09:53AM  </td><td align=\"left\"><a class=\"tab-link-news\" href=\"https://finance.yahoo.com/video/apple-amazon-sell-off-overdone-145300086.html\" target=\"_blank\">Apple, Amazon sell-off overdone, research analyst says</a> <span style=\"color:#aa6dc0;font-size:9px\">CNBC Videos</span></td></tr>\n",
       " <tr><td align=\"right\" width=\"130\">09:38AM  </td><td align=\"left\"><a class=\"tab-link-news\" href=\"https://www.investors.com/market-trend/stock-market-today/stock-market-futures-dive-dow-jones-chip-maker-takes-a-hit/?src=A00220&amp;yptr=yahoo\" target=\"_blank\">Stocks Dive As China Tariffs Bite; Dow Jones Drops 350 Points</a> <span style=\"color:#aa6dc0;font-size:9px\">Investor's Business Daily</span></td></tr>\n",
       " <tr><td align=\"right\" width=\"130\">09:30AM  </td><td align=\"left\"><a class=\"tab-link-news\" href=\"https://finance.yahoo.com/news/3-reasons-why-bought-stocks-143000198.html\" target=\"_blank\">3 Reasons Why I Bought Stocks on Monday</a> <span style=\"color:#aa6dc0;font-size:9px\">Motley Fool</span></td></tr>\n",
       " <tr><td align=\"right\" width=\"130\">08:53AM  </td><td align=\"left\"><a class=\"tab-link-news\" href=\"https://www.investopedia.com/oversold-facebook-set-for-big-bounce-4582615?utm_campaign=quote-yahoo&amp;utm_source=yahoo&amp;utm_medium=referral&amp;yptr=yahoo\" target=\"_blank\">Oversold Facebook Stock Set for Big Bounce</a> <span style=\"color:#aa6dc0;font-size:9px\">Investopedia</span></td></tr>\n",
       " <tr><td align=\"right\" width=\"130\">08:27AM  </td><td align=\"left\"><a class=\"tab-link-news\" href=\"https://finance.yahoo.com/news/top-5-roe-stocks-invest-132701421.html\" target=\"_blank\">Top 5 ROE Stocks to Invest in Now to Beat Market Blues</a> <span style=\"color:#aa6dc0;font-size:9px\">Zacks</span></td></tr>\n",
       " <tr><td align=\"right\" width=\"130\">08:13AM  </td><td align=\"left\"><a class=\"tab-link-news\" href=\"https://www.wsj.com/articles/cyber-daily-ceos-must-step-up-11546434805?mod=yahoo_hs&amp;yptr=yahoo\" target=\"_blank\">[$$] Cyber Daily: CEOs Must Step Up</a> <span style=\"color:#aa6dc0;font-size:9px\">The Wall Street Journal</span></td></tr>\n",
       " <tr><td align=\"right\" width=\"130\">07:51AM  </td><td align=\"left\"><a class=\"tab-link-news\" href=\"https://uk.news.yahoo.com/facebook-messenger-tests-dark-mode-125139981.html\" target=\"_blank\">Facebook Messenger tests Dark Mode to put less strain on users' eyes</a> <span style=\"color:#aa6dc0;font-size:9px\">The Independent</span></td></tr>\n",
       " <tr><td align=\"right\" width=\"130\">07:09AM  </td><td align=\"left\"><a class=\"tab-link-news\" href=\"https://www.wsj.com/articles/sure-unfriend-herthen-brace-for-an-awkward-new-years-eve-11546195586?mod=yahoo_hs&amp;yptr=yahoo\" target=\"_blank\">During the Holidays, Unfriend Irksome Relatives at Your Own Risk</a> <span style=\"color:#aa6dc0;font-size:9px\">The Wall Street Journal</span></td></tr>\n",
       " <tr><td align=\"right\" width=\"130\">06:12AM  </td><td align=\"left\"><a class=\"tab-link-news\" href=\"https://finance.yahoo.com/news/facebook-rises-3-111203281.html\" target=\"_blank\">Facebook Rises 3%</a> <span style=\"color:#aa6dc0;font-size:9px\">Investing.com</span></td></tr>\n",
       " <tr><td align=\"right\" style=\"white-space:nowrap\" width=\"130\">Jan-01-19 10:48PM  </td><td align=\"left\"><a class=\"tab-link-news\" href=\"https://finance.yahoo.com/news/google-wins-u-approval-radar-034834588.html\" target=\"_blank\">Google wins U.S. approval for radar-based hand motion sensor</a> <span style=\"color:#aa6dc0;font-size:9px\">Reuters</span></td></tr>\n",
       " <tr><td align=\"right\" width=\"130\">09:21AM  </td><td align=\"left\"><a class=\"tab-link-news\" href=\"https://www.thestreet.com/opinion/20-realistic-tech-predictions-for-2019-part-two-14812271?puc=yahoo&amp;cm_ven=YAHOO&amp;yptr=yahoo\" target=\"_blank\">20 Realistic Tech Predictions for 2019 -- Part Two</a> <span style=\"color:#aa6dc0;font-size:9px\">TheStreet.com</span></td></tr>\n",
       " <tr><td align=\"right\" width=\"130\">12:00AM  </td><td align=\"left\"><a class=\"tab-link-news\" href=\"https://finance.yahoo.com/news/2018-review-roller-coaster-market-050000575.html\" target=\"_blank\">2018: A Year in Review for a Roller-Coaster Market</a> <span style=\"color:#aa6dc0;font-size:9px\">Motley Fool</span></td></tr>\n",
       " <tr><td align=\"right\" style=\"white-space:nowrap\" width=\"130\">Dec-31-18 05:51PM  </td><td align=\"left\"><a class=\"tab-link-news\" href=\"https://finance.yahoo.com/video/facebook-mark-zuckerberg-lost-22-225127851.html\" target=\"_blank\">Facebooks Mark Zuckerberg lost $22 billion in 2018: Report</a> <span style=\"color:#aa6dc0;font-size:9px\">Fox Business Videos</span></td></tr>\n",
       " <tr><td align=\"right\" width=\"130\">04:01PM  </td><td align=\"left\"><a class=\"tab-link-news\" href=\"https://www.cnbc.com/2018/12/31/how-facebooks-stocked-fared-through-privacy-scandals-in-2018.html?__source=yahoo%7Cfinance%7Cheadline%7Cstory%7C&amp;par=yahoo&amp;yptr=yahoo\" target=\"_blank\">Facebook's worst year ever is now over. Here's how its scandals affected the stock</a> <span style=\"color:#aa6dc0;font-size:9px\">CNBC</span></td></tr>\n",
       " <tr><td align=\"right\" width=\"130\">04:01PM  </td><td align=\"left\"><a class=\"tab-link-news\" href=\"https://www.cnbc.com/2018/12/31/faang-stocks-2018-performance.html?__source=yahoo%7Cfinance%7Cheadline%7Cstory%7C&amp;par=yahoo&amp;yptr=yahoo\" target=\"_blank\">A year ago the FAANG stocks were a hot buy  here's where they stand heading into 2019</a> <span style=\"color:#aa6dc0;font-size:9px\">CNBC</span></td></tr>\n",
       " <tr><td align=\"right\" width=\"130\">02:53PM  </td><td align=\"left\"><a class=\"tab-link-news\" href=\"https://finance.yahoo.com/news/netflix-rises-2018-faang-leader-195350536.html\" target=\"_blank\">Netflix Rises as 2018 FAANG Leader Closes Out Year With a Rally</a> <span style=\"color:#aa6dc0;font-size:9px\">Bloomberg</span></td></tr>\n",
       " <tr><td align=\"right\" width=\"130\">01:59PM  </td><td align=\"left\"><a class=\"tab-link-news\" href=\"https://finance.yahoo.com/news/facebook-falls-midday-bringing-communication-185900243.html\" target=\"_blank\">Facebook Falls Midday, Bringing Communication Services Index Down</a> <span style=\"color:#aa6dc0;font-size:9px\">Investing.com</span></td></tr>\n",
       " <tr><td align=\"right\" width=\"130\">11:41AM  </td><td align=\"left\"><a class=\"tab-link-news\" href=\"https://finance.yahoo.com/video/expert-likely-us-see-data-164100895.html\" target=\"_blank\">Expert: It's likely the US will see a data privacy law in...</a> <span style=\"color:#aa6dc0;font-size:9px\">CNBC Videos</span></td></tr>\n",
       " <tr><td align=\"right\" width=\"130\">11:34AM  </td><td align=\"left\"><a class=\"tab-link-news\" href=\"https://finance.yahoo.com/video/tech-had-rocky-2018-heres-163400377.html\" target=\"_blank\">Tech had a rocky 2018. Here's what 2019 might look like.</a> <span style=\"color:#aa6dc0;font-size:9px\">CNBC Videos</span></td></tr>\n",
       " <tr><td align=\"right\" width=\"130\">11:16AM  </td><td align=\"left\"><a class=\"tab-link-news\" href=\"https://finance.yahoo.com/video/recodes-kara-swisher-lays-2019-161600116.html\" target=\"_blank\">Recode's Kara Swisher lays out 2019 tech predictions</a> <span style=\"color:#aa6dc0;font-size:9px\">CNBC Videos</span></td></tr>\n",
       " <tr><td align=\"right\" width=\"130\">10:35AM  </td><td align=\"left\"><a class=\"tab-link-news\" href=\"https://finance.yahoo.com/news/why-worst-may-over-tencent-153552530.html\" target=\"_blank\">Why the Worst May Be Over for Tencent Stock</a> <span style=\"color:#aa6dc0;font-size:9px\">InvestorPlace</span></td></tr>\n",
       " <tr><td align=\"right\" width=\"130\">10:31AM  </td><td align=\"left\"><a class=\"tab-link-news\" href=\"https://finance.yahoo.com/news/facebook-stock-finally-found-bottom-153112990.html\" target=\"_blank\">Facebook Stock Finally Has Found the Bottom and Will Build a Great 2019</a> <span style=\"color:#aa6dc0;font-size:9px\">InvestorPlace</span></td></tr>\n",
       " <tr><td align=\"right\" width=\"130\">10:23AM  </td><td align=\"left\"><a class=\"tab-link-news\" href=\"https://www.bizjournals.com/sanjose/news/2018/12/31/venture-investing-in-2018-seed-deals-saudis.html?ana=yahoo&amp;yptr=yahoo\" target=\"_blank\">Venture investing in 2018: Seed deals, Saudis, scooters and more</a> <span style=\"color:#aa6dc0;font-size:9px\">American City Business Journals</span></td></tr>\n",
       " <tr><td align=\"right\" width=\"130\">09:04AM  </td><td align=\"left\"><a class=\"tab-link-news\" href=\"https://finance.yahoo.com/news/twitter-accounts-hacked-demo-reveal-140402025.html\" target=\"_blank\">Twitter Accounts Get Hacked for Demo to Reveal Security Gaps</a> <span style=\"color:#aa6dc0;font-size:9px\">Zacks</span></td></tr>\n",
       " <tr><td align=\"right\" width=\"130\">08:00AM  </td><td align=\"left\"><a class=\"tab-link-news\" href=\"https://finance.yahoo.com/news/better-buy-facebook-vs-twitter-130000456.html\" target=\"_blank\">Better Buy: Facebook vs. Twitter</a> <span style=\"color:#aa6dc0;font-size:9px\">Motley Fool</span></td></tr>\n",
       " <tr><td align=\"right\" width=\"130\">07:30AM  </td><td align=\"left\"><a class=\"tab-link-news\" href=\"https://finance.yahoo.com/video/maxim-analyst-expects-tech-rally-123000525.html\" target=\"_blank\">Maxim analyst expects tech rally in 2019</a> <span style=\"color:#aa6dc0;font-size:9px\">CNBC Videos</span></td></tr>\n",
       " <tr><td align=\"right\" width=\"130\">07:06AM  </td><td align=\"left\"><a class=\"tab-link-news\" href=\"https://finance.yahoo.com/video/android-apps-sharing-data-facebook-120626780.html\" target=\"_blank\">Android apps sharing data with Facebook without users' consent: Report</a> <span style=\"color:#aa6dc0;font-size:9px\">Fox Business Videos</span></td></tr>\n",
       " <tr><td align=\"right\" style=\"white-space:nowrap\" width=\"130\">Dec-30-18 08:00PM  </td><td align=\"left\"><a class=\"tab-link-news\" href=\"https://finance.yahoo.com/news/looks-verizon-apos-online-advertising-010000780.html\" target=\"_blank\">It Looks Like Verizon's Online Advertising Project Is a Flop</a> <span style=\"color:#aa6dc0;font-size:9px\">Motley Fool</span></td></tr>\n",
       " <tr><td align=\"right\" width=\"130\">05:45PM  </td><td align=\"left\"><a class=\"tab-link-news\" href=\"https://finance.yahoo.com/news/did-facebook-just-become-best-224500422.html\" target=\"_blank\">Did Facebook Just Become the Best Way to Invest in Blockchain?</a> <span style=\"color:#aa6dc0;font-size:9px\">Motley Fool</span></td></tr>\n",
       " <tr><td align=\"right\" width=\"130\">04:30PM  </td><td align=\"left\"><a class=\"tab-link-news\" href=\"https://finance.yahoo.com/news/facebook-chases-square-peer-peer-213000609.html\" target=\"_blank\">Facebook Chases Square Into the Peer-to-Peer Crypto Market</a> <span style=\"color:#aa6dc0;font-size:9px\">Motley Fool</span></td></tr>\n",
       " <tr><td align=\"right\" width=\"130\">03:39PM  </td><td align=\"left\"><a class=\"tab-link-news\" href=\"https://finance.yahoo.com/news/benzingas-bulls-bears-week-amazon-203905654.html\" target=\"_blank\">Benzinga's Bulls &amp; Bears Of The Week: Amazon, Apple, Disney, Facebook, GM And More</a> <span style=\"color:#aa6dc0;font-size:9px\">Benzinga</span></td></tr>\n",
       " <tr><td align=\"right\" width=\"130\">03:23PM  </td><td align=\"left\"><a class=\"tab-link-news\" href=\"https://finance.yahoo.com/news/think-snap-bargain-think-again-202300903.html\" target=\"_blank\">Think Snap Is a Bargain? Think Again.</a> <span style=\"color:#aa6dc0;font-size:9px\">Motley Fool</span></td></tr>\n",
       " <tr><td align=\"right\" width=\"130\">02:10PM  </td><td align=\"left\"><a class=\"tab-link-news\" href=\"https://www.bizjournals.com/sanfrancisco/news/2018/12/30/most-read-bay-area-business-news-2018.html?ana=yahoo&amp;yptr=yahoo\" target=\"_blank\">A look back at the most read Bay Area business news of 2018</a> <span style=\"color:#aa6dc0;font-size:9px\">American City Business Journals</span></td></tr>\n",
       " <tr><td align=\"right\" style=\"white-space:nowrap\" width=\"130\">Dec-29-18 07:00PM  </td><td align=\"left\"><a class=\"tab-link-news\" href=\"https://finance.yahoo.com/news/half-billion-millennial-voters-face-000018501.html\" target=\"_blank\">Half a Billion Millennial Voters Are Face of Asia 2019</a> <span style=\"color:#aa6dc0;font-size:9px\">Bloomberg</span></td></tr>\n",
       " <tr><td align=\"right\" width=\"130\">04:43PM  </td><td align=\"left\"><a class=\"tab-link-news\" href=\"https://finance.yahoo.com/news/tech-stocks-week-amazon-apos-214300172.html\" target=\"_blank\">Tech Stocks This Week: Amazon's Big Holiday, A Bullish Call on Facebook, and More</a> <span style=\"color:#aa6dc0;font-size:9px\">Motley Fool</span></td></tr>\n",
       " <tr><td align=\"right\" width=\"130\">07:00AM  </td><td align=\"left\"><a class=\"tab-link-news\" href=\"https://qz.com/1510494/facebook-has-been-thinking-about-moderation-all-wrong/?utm_source=YPL&amp;yptr=yahoo\" target=\"_blank\">Facebook has been thinking about moderation all wrong</a> <span style=\"color:#aa6dc0;font-size:9px\">Quartz</span></td></tr>\n",
       " <tr><td align=\"right\" style=\"white-space:nowrap\" width=\"130\">Dec-28-18 10:58PM  </td><td align=\"left\"><a class=\"tab-link-news\" href=\"https://finance.yahoo.com/news/review-3-reckless-predictions-stocks-035800326.html\" target=\"_blank\">Year in Review 3: Reckless Predictions and Stocks to Watch in 2019</a> <span style=\"color:#aa6dc0;font-size:9px\">Motley Fool</span></td></tr>\n",
       " <tr><td align=\"right\" width=\"130\">05:50PM  </td><td align=\"left\"><a class=\"tab-link-news\" href=\"https://finance.yahoo.com/news/facebook-fb-struggles-regulate-content-225010919.html\" target=\"_blank\">Facebook (FB) Struggles to Regulate Content on Its Platform</a> <span style=\"color:#aa6dc0;font-size:9px\">Zacks</span></td></tr>\n",
       " <tr><td align=\"right\" width=\"130\">04:34PM  </td><td align=\"left\"><a class=\"tab-link-news\" href=\"https://finance.yahoo.com/video/facebook-might-undergo-fundamental-change-213400449.html\" target=\"_blank\">Facebook might need to undergo 'fundamental change' in or...</a> <span style=\"color:#aa6dc0;font-size:9px\">CNBC Videos</span></td></tr>\n",
       " <tr><td align=\"right\" width=\"130\">04:13PM  </td><td align=\"left\"><a class=\"tab-link-news\" href=\"https://www.thestreet.com/investing/stocks/markets-go-higher-as-wall-street-pushes-for-3-day-winning-streak-14821417?puc=yahoo&amp;cm_ven=YAHOO&amp;yptr=yahoo\" target=\"_blank\">Markets End Tumultuous Day in the Red, Mini-Rally Ends at 2 Sessions</a> <span style=\"color:#aa6dc0;font-size:9px\">TheStreet.com</span></td></tr>\n",
       " <tr><td align=\"right\" width=\"130\">04:09PM  </td><td align=\"left\"><a class=\"tab-link-news\" href=\"https://www.barrons.com/articles/why-trust-is-the-no-1-issue-for-tech-in-2019-51546031371?siteid=yhoof2&amp;yptr=yahoo\" target=\"_blank\">Regaining Trust Is the No. 1 Issue for Tech in 2019</a> <span style=\"color:#aa6dc0;font-size:9px\">Barrons.com</span></td></tr>\n",
       " <tr><td align=\"right\" width=\"130\">03:17PM  </td><td align=\"left\"><a class=\"tab-link-news\" href=\"https://finance.yahoo.com/video/facebook-under-fire-over-secret-201733485.html\" target=\"_blank\">Facebook under fire over secret rulebook</a> <span style=\"color:#aa6dc0;font-size:9px\">Fox Business Videos</span></td></tr>\n",
       " <tr><td align=\"right\" width=\"130\">02:57PM  </td><td align=\"left\"><a class=\"tab-link-news\" href=\"https://finance.yahoo.com/news/accidental-instagram-horizontal-scrolling-causes-195751715.html\" target=\"_blank\">Accidental Instagram Update of Horizontal Scrolling Causes Uproar</a> <span style=\"color:#aa6dc0;font-size:9px\">InvestorPlace</span></td></tr>\n",
       " <tr><td align=\"right\" width=\"130\">02:44PM  </td><td align=\"left\"><a class=\"tab-link-news\" href=\"https://www.thestreet.com/technology/facebook-ceo-company-has-altered-its-dna-14821628?puc=yahoo&amp;cm_ven=YAHOO&amp;yptr=yahoo\" target=\"_blank\">Zuckerberg Claims Facebook Has 'Fundamentally Altered' Its DNA</a> <span style=\"color:#aa6dc0;font-size:9px\">TheStreet.com</span></td></tr>\n",
       " <tr><td align=\"right\" width=\"130\">01:46PM  </td><td align=\"left\"><a class=\"tab-link-news\" href=\"https://finance.yahoo.com/news/facebook-ceo-zuckerberg-says-problems-184652398.html\" target=\"_blank\">Facebook CEO Zuckerberg Says Problems Will Take Years to Fix</a> <span style=\"color:#aa6dc0;font-size:9px\">Bloomberg</span></td></tr>\n",
       " <tr><td align=\"right\" width=\"130\">01:30PM  </td><td align=\"left\"><a class=\"tab-link-news\" href=\"https://uk.finance.yahoo.com/news/zuckerberg-facebook-never-fully-stop-183014766.html\" target=\"_blank\">Zuckerberg: Facebook can never fully stop use of platform for election meddling</a> <span style=\"color:#aa6dc0;font-size:9px\">The Telegraph</span></td></tr>\n",
       " <tr><td align=\"right\" width=\"130\">11:35AM  </td><td align=\"left\"><a class=\"tab-link-news\" href=\"https://finance.yahoo.com/news/why-investors-avoid-snap-stock-163543064.html\" target=\"_blank\">Why Investors Should Avoid Snap Stock</a> <span style=\"color:#aa6dc0;font-size:9px\">InvestorPlace</span></td></tr>\n",
       " </table>}"
      ]
     },
     "execution_count": 15,
     "metadata": {},
     "output_type": "execute_result"
    }
   ],
   "source": [
    "html_tables"
   ]
  },
  {
   "cell_type": "code",
   "execution_count": 19,
   "metadata": {},
   "outputs": [],
   "source": [
    "# Putting all together\n",
    "html_tables = {}\n",
    "\n",
    "# For every table in the datasets folder...\n",
    "for table_name in os.listdir('datasets'):\n",
    "    #this is the path to the file. Don't touch!\n",
    "    table_path = f'datasets/{table_name}'\n",
    "    # Open as a python file in read-only mode\n",
    "    table_file = open(table_path, 'r')\n",
    "    # Read the contents of the file into 'html'\n",
    "    html = BeautifulSoup(table_file)\n",
    "    # Find 'news-table' in the Soup and load it into 'html_table'\n",
    "    html_table = html.find(id=\"news-table\")\n",
    "    # Add the table to our dictionary\n",
    "    html_tables[table_name] = html_table"
   ]
  },
  {
   "cell_type": "markdown",
   "metadata": {},
   "source": [
    "### Exploring the saved headlines table"
   ]
  },
  {
   "cell_type": "code",
   "execution_count": 25,
   "metadata": {},
   "outputs": [],
   "source": [
    "tesla = html_tables['tsla_22sep.html']"
   ]
  },
  {
   "cell_type": "code",
   "execution_count": 21,
   "metadata": {},
   "outputs": [
    {
     "data": {
      "text/plain": [
       "dict_keys(['fb_05ene.html', 'fb_22sep.html', 'tsla_05ene.html', 'tsla_22sep.html', 'tsla_26nov.html'])"
      ]
     },
     "execution_count": 21,
     "metadata": {},
     "output_type": "execute_result"
    }
   ],
   "source": [
    "html_tables.keys()"
   ]
  },
  {
   "cell_type": "code",
   "execution_count": 27,
   "metadata": {},
   "outputs": [],
   "source": [
    "tsla_tr = tesla.findAll('tr')"
   ]
  },
  {
   "cell_type": "code",
   "execution_count": 31,
   "metadata": {},
   "outputs": [],
   "source": [
    "em = enumerate(tsla_tr)"
   ]
  },
  {
   "cell_type": "code",
   "execution_count": 37,
   "metadata": {},
   "outputs": [
    {
     "data": {
      "text/plain": [
       "<tr><td align=\"right\" style=\"white-space:nowrap\" width=\"130\">Sep-21-18 09:56PM  </td><td align=\"left\"><a class=\"tab-link-news\" href=\"https://finance.yahoo.com/video/billionaire-investor-questions-elon-musk-015608758.html\" target=\"_blank\">Billionaire investor questions Elon Musk getting 'a pass' after bombshell tweets</a> <span style=\"color:#aa6dc0;font-size:9px\">Fox Business Videos</span></td></tr>"
      ]
     },
     "execution_count": 37,
     "metadata": {},
     "output_type": "execute_result"
    }
   ],
   "source": [
    "tsla_tr[0]"
   ]
  },
  {
   "cell_type": "code",
   "execution_count": null,
   "metadata": {},
   "outputs": [],
   "source": []
  }
 ],
 "metadata": {
  "kernelspec": {
   "display_name": "Python 3",
   "language": "python",
   "name": "python3"
  },
  "language_info": {
   "codemirror_mode": {
    "name": "ipython",
    "version": 3
   },
   "file_extension": ".py",
   "mimetype": "text/x-python",
   "name": "python",
   "nbconvert_exporter": "python",
   "pygments_lexer": "ipython3",
   "version": "3.7.3"
  }
 },
 "nbformat": 4,
 "nbformat_minor": 2
}
